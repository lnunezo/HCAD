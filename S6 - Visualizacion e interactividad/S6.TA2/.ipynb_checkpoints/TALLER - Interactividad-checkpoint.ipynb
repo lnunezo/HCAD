{
 "cells": [
  {
   "cell_type": "markdown",
   "metadata": {
    "nbgrader": {
     "grade": false,
     "grade_id": "cell-527644fb96adfa99",
     "locked": true,
     "schema_version": 3,
     "solution": false,
     "task": false
    }
   },
   "source": [
    "<img src=\"Archivos/miad4.png\" width=800x>\n",
    "\n",
    "## Interactividad usando `panel`\n",
    "\n",
    "En este taller podrás poner en práctica los conceptos aprendidos acerca del uso del paquete `panel`. Usarás `panel` con el fin de crear dashboards como herramienta de apoyo al momento de resolver problemas específicos en un contexto de Analytics.\n",
    "\n",
    "Instrucciones y condiciones generales: Esta es una actividad calificada y, por lo tanto, debe ser resuelta individualmente.\n",
    "\n",
    "### Al desarrollar este taller podrás verificar tu progreso en:\n",
    "\n",
    "1. Programar la funcionalidad de un dashboard en `panel`.\n",
    "2. Agregar gráficos y widgets para hacer visualizaciones agradables en `panel`.\n",
    "3. Personalizar dashobards para generar distintas visualizaciones interactivas en `panel`."
   ]
  },
  {
   "cell_type": "code",
   "execution_count": null,
   "metadata": {
    "nbgrader": {
     "grade": false,
     "grade_id": "cell-6bdba9554ed8d133",
     "locked": true,
     "schema_version": 3,
     "solution": false,
     "task": false
    }
   },
   "outputs": [],
   "source": [
    "import panel as pn\n",
    "import plotly.graph_objects as go\n",
    "import pandas as pd\n",
    "pn.extension('plotly')"
   ]
  },
  {
   "cell_type": "markdown",
   "metadata": {
    "nbgrader": {
     "grade": false,
     "grade_id": "cell-7b045e66f5b19142",
     "locked": true,
     "schema_version": 3,
     "solution": false,
     "task": false
    }
   },
   "source": [
    "## Pregunta 1"
   ]
  },
  {
   "cell_type": "markdown",
   "metadata": {
    "nbgrader": {
     "grade": false,
     "grade_id": "cell-b93ccd2e580b5baa",
     "locked": true,
     "schema_version": 3,
     "solution": false,
     "task": false
    }
   },
   "source": [
    "Con la base de datos *COVID-19.csv* crea un dashboard en `panel` que:\n",
    "\n",
    "1. Permita crear un diagrama de barras horizontal que muestre los casos de COVID-19 de acuerdo a la selección de los siguentes criterios:<br />\n",
    "    a. Casos o muertes.<br />\n",
    "    b. Periodo: Histórico, Últimos 7 días y Últimas 24 horas.<br />\n",
    "    Pista: utilice un control de tipo `RadioButtonGroup` para cada uno de los dos criterios.<br />\n",
    "2. Contenga un diagrama de barras horizontal de las muertes por millón de personas.\n",
    "3. Permita visualizar a tráves de un diagrama de barras horizontal los casos en cada una de las regiones de la Organización Munidal de la Salud.\n",
    "\n",
    "Nota: a excpeción de las regiones, muestre los 10 mayores valores en cada gráfico."
   ]
  },
  {
   "cell_type": "markdown",
   "metadata": {
    "nbgrader": {
     "grade": false,
     "grade_id": "cell-6a2cc95ab1fd7be4",
     "locked": true,
     "schema_version": 3,
     "solution": false,
     "task": false
    }
   },
   "source": [
    "| <center>Variable</center> |<center>Descripción</center> | \n",
    "| :-- | :-- | \n",
    "| Name | País |\n",
    "| WHO Region | Región de la OMS |\n",
    "| Cases - cumulative total | Total de casos hasta el momento |\n",
    "| Cases - cumulative total per 1 million population | Número de casos acumulado por millón de personas |\n",
    "| Cases - newly reported in last 7 days | Número de casos nuevos en los últimos 7 días |\n",
    "| Cases - newly reported in last 24 hours | Número de casos nuevos en las últimas 24 horas |\n",
    "| Deaths - cumulative total | Total de muertes hasta el momento |\n",
    "| Deaths - cumulative total per 1 million population | Número de muertes acumulado por millón de personas |\n",
    "| Deaths - newly reported in last 7 days | Número de muertes nuevas en los últimos 7 días |\n",
    "| Deaths - newly reported in last 24 hours | Número de muertes nuevas en las últimas 24 horas |"
   ]
  },
  {
   "cell_type": "code",
   "execution_count": null,
   "metadata": {
    "nbgrader": {
     "grade": true,
     "grade_id": "cell-fe20614352ef7071",
     "locked": false,
     "points": 1,
     "schema_version": 3,
     "solution": true,
     "task": false
    },
    "scrolled": true
   },
   "outputs": [],
   "source": [
    "data = pd.read_csv('Archivos/COVID-19.csv')\n",
    "data = pd.DataFrame(data)\n",
    "data.head()"
   ]
  },
  {
   "cell_type": "code",
   "execution_count": null,
   "metadata": {
    "nbgrader": {
     "grade": true,
     "grade_id": "cell-f644f9014e17ebe1",
     "locked": false,
     "points": 1,
     "schema_version": 3,
     "solution": true,
     "task": false
    }
   },
   "outputs": [],
   "source": [
    "# Agregamos un título para el dashobard\n",
    "titulo = '## COVID-19 Dashboard'\n",
    "\n",
    "#opciones = ['Cases - newly reported in last 24 hours', 'Cases - newly reported in last 7 days']\n",
    "#sel = pn.widgets.RadioButtonGroup(\n",
    "#    name='Radio Button Group', options=opciones, button_type='success')\n",
    "\n",
    "opciones = ['Casos', 'Muertes']\n",
    "sel = pn.widgets.RadioButtonGroup(options=opciones)\n",
    "\n",
    "opciones1 = ['Últimas 24 horas', 'Últimos 7 días', 'Histórico']\n",
    "sel1 = pn.widgets.RadioButtonGroup(options=opciones1)\n",
    "#data['Name'].unique().tolist()\n"
   ]
  },
  {
   "cell_type": "code",
   "execution_count": null,
   "metadata": {
    "nbgrader": {
     "grade": true,
     "grade_id": "cell-ed0d5ee0d14fba55",
     "locked": false,
     "points": 1,
     "schema_version": 3,
     "solution": true,
     "task": false
    },
    "scrolled": false
   },
   "outputs": [],
   "source": [
    "#Grafico 1: Casos por región \n",
    "df=data.groupby('WHO Region').sum()\n",
    "df.sort_values(by=['Cases - cumulative total'], inplace=True, ascending=False)\n",
    "\n",
    "paises=[]\n",
    "for i in range(len(df)):\n",
    "    paises.append(str(df.iloc[i].name))\n",
    "\n",
    "fig1 = go.Figure(go.Bar(\n",
    "           \n",
    "            x=df['Cases - cumulative total'],\n",
    "            y=paises,\n",
    "            text=df['Cases - cumulative total'],\n",
    "            textposition='outside',\n",
    "            texttemplate='%{text}',\n",
    "            marker_color='rgb(34,139,34)',\n",
    "            orientation='h')\n",
    "                   )\n",
    "fig1.update_layout(\n",
    "        barmode='stack',\n",
    "        title= 'Casos por región',\n",
    "        xaxis=dict(\n",
    "        showgrid=False,\n",
    "        ),\n",
    "        yaxis=dict(\n",
    "        showgrid=False,\n",
    "        ),\n",
    "        width=1500,\n",
    "        paper_bgcolor='white',\n",
    "        plot_bgcolor='white',\n",
    "        showlegend=False,\n",
    "        # Solo mostramos\n",
    "        yaxis_range=[5.5, -.5]\n",
    "    )\n",
    "            \n",
    "fig1.show()"
   ]
  },
  {
   "cell_type": "code",
   "execution_count": null,
   "metadata": {
    "nbgrader": {
     "grade": true,
     "grade_id": "cell-e613a0e2d566a5df",
     "locked": false,
     "points": 1,
     "schema_version": 3,
     "solution": true,
     "task": false
    }
   },
   "outputs": [],
   "source": [
    "#Mortalidad\n",
    "df=data\n",
    "df.sort_values(by=['Deaths - cumulative total per 1 million population'], inplace=True, ascending=False)\n",
    "        \n",
    "fig2 = go.Figure(go.Bar(\n",
    "           \n",
    "            x=df['Deaths - cumulative total per 1 million population'],\n",
    "            y=df['Name'],\n",
    "            text=data['Deaths - cumulative total per 1 million population'],\n",
    "            textposition='outside',\n",
    "            texttemplate='%{text}',\n",
    "            marker_color='rgb(34,139,34)',\n",
    "            orientation='h')\n",
    "                   )\n",
    "fig2.update_layout(\n",
    "        barmode='stack',\n",
    "        title= 'Muertes por millón de habitantes',\n",
    "        xaxis=dict(\n",
    "        showgrid=False,\n",
    "        ),\n",
    "        yaxis=dict(\n",
    "        showgrid=False,\n",
    "        ),\n",
    "        paper_bgcolor='white',\n",
    "        plot_bgcolor='white',\n",
    "        width=1500,\n",
    "        showlegend=False,\n",
    "        # Solo mostramos los 10 primeros datos\n",
    "        yaxis_range=[9.5, -.5]\n",
    "    )\n",
    "            \n",
    "fig2.show()"
   ]
  },
  {
   "cell_type": "code",
   "execution_count": null,
   "metadata": {
    "nbgrader": {
     "grade": true,
     "grade_id": "cell-85e0b31e29de0e27",
     "locked": false,
     "points": 1,
     "schema_version": 3,
     "solution": true,
     "task": false
    }
   },
   "outputs": [],
   "source": [
    "@pn.depends(sel.param.value, sel1.param.value)\n",
    "# Definimos la función que se encarga de la interactividad del dashboard\n",
    "def funcion_interactiva1(sel, sel1):\n",
    "    \n",
    "    # Cargamos los datos\n",
    "    df = data\n",
    "    # Creamos un filtro de datos que usa valores del dropdown widget\n",
    "    if  (sel == 'Muertes') & (sel1 == 'Histórico'):\n",
    "        filtro = 'Deaths - cumulative total'\n",
    "\n",
    "    elif  (sel == 'Muertes') & (sel1 == 'Últimos 7 días'):\n",
    "        filtro = 'Deaths - newly reported in last 7 days'\n",
    "    \n",
    "    elif  (sel == 'Muertes') & (sel1 == 'Últimas 24 horas'):\n",
    "        filtro = 'Deaths - newly reported in last 24 hours'\n",
    "        \n",
    "    elif  (sel == 'Casos') & (sel1 == 'Últimos 7 días'):\n",
    "        filtro = 'Cases - newly reported in last 7 days'\n",
    "    \n",
    "    elif  (sel == 'Muertes') & (sel1 == 'Últimas 24 horas'):\n",
    "        filtro = 'Cases - newly reported in last 24 hours'\n",
    "    \n",
    "    else:\n",
    "        filtro = 'Cases - cumulative total'\n",
    "\n",
    "    df.sort_values(by=[filtro], inplace=True, ascending=False)\n",
    "    \n",
    "    fig = go.Figure(go.Bar(\n",
    "            x=df[filtro],\n",
    "            y=df['Name'],\n",
    "            text=df[filtro],\n",
    "            textposition='outside',\n",
    "            texttemplate='%{text}',\n",
    "            marker_color='rgb(34,139,34)',\n",
    "            orientation='h')\n",
    "                   )\n",
    "    \n",
    "    fig.update_layout(\n",
    "        barmode='stack',\n",
    "        title= sel + ' COVID-19',\n",
    "        xaxis=dict(\n",
    "        showgrid=False,\n",
    "        ),\n",
    "        yaxis=dict(\n",
    "        showgrid=False,\n",
    "        ),\n",
    "        paper_bgcolor='white',\n",
    "        plot_bgcolor='white',\n",
    "        width=1500,\n",
    "        showlegend=False,\n",
    "        # Solo mostramos los 10 primeros datos\n",
    "        yaxis_range=[9.5, -.5]\n",
    "    )\n",
    "    return fig   \n",
    "\n",
    "\n",
    "dashboard = pn.Column(pn.Row(\n",
    "    pn.Column(titulo, sel, sel1),\n",
    "    funcion_interactiva1), fig1,\n",
    "    fig2\n",
    "                     )\n",
    "    "
   ]
  },
  {
   "cell_type": "code",
   "execution_count": null,
   "metadata": {
    "nbgrader": {
     "grade": true,
     "grade_id": "cell-d380b55145e94427",
     "locked": false,
     "points": 1,
     "schema_version": 3,
     "solution": true,
     "task": false
    },
    "scrolled": false
   },
   "outputs": [],
   "source": [
    "dashboard.servable()"
   ]
  },
  {
   "cell_type": "code",
   "execution_count": null,
   "metadata": {
    "nbgrader": {
     "grade": true,
     "grade_id": "cell-bd25791f5af50986",
     "locked": false,
     "points": 1,
     "schema_version": 3,
     "solution": true,
     "task": false
    }
   },
   "outputs": [],
   "source": [
    "dashboard.show()"
   ]
  },
  {
   "cell_type": "markdown",
   "metadata": {
    "nbgrader": {
     "grade": false,
     "grade_id": "cell-defb01a22ebae408",
     "locked": true,
     "schema_version": 3,
     "solution": false,
     "task": false
    }
   },
   "source": [
    "## Créditos\n",
    "\n",
    "**Autor(es)**: Juan David Reyes Jaimes, Diego Alejandro Cely Gomez\n",
    "\n",
    "**Última actualización:** 26/08/2021"
   ]
  }
 ],
 "metadata": {
  "celltoolbar": "Create Assignment",
  "kernelspec": {
   "display_name": "Python 3 (ipykernel)",
   "language": "python",
   "name": "python3"
  },
  "language_info": {
   "codemirror_mode": {
    "name": "ipython",
    "version": 3
   },
   "file_extension": ".py",
   "mimetype": "text/x-python",
   "name": "python",
   "nbconvert_exporter": "python",
   "pygments_lexer": "ipython3",
   "version": "3.8.10"
  }
 },
 "nbformat": 4,
 "nbformat_minor": 4
}
